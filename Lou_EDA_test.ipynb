{
 "cells": [
  {
   "cell_type": "code",
   "execution_count": 10,
   "id": "bb0af3ff",
   "metadata": {},
   "outputs": [],
   "source": [
    "import matplotlib.pyplot as plt\n",
    "import numpy as np\n",
    "import pandas as pd\n",
    "import seaborn as sns"
   ]
  },
  {
   "cell_type": "markdown",
   "id": "c2b17613",
   "metadata": {},
   "source": [
    "# Airbnb data analysis\n",
    "<h3>By Louise Jones</h3>"
   ]
  },
  {
   "cell_type": "markdown",
   "id": "e9b8f035",
   "metadata": {},
   "source": [
    "I want to look into whether an airbnb listing with nature is priced or rated differently to listings without nature (and views). I think this would be an interesting concept as if it shows that nature does have a positive impact, it may encourage listers to increase or protect the natural environment that they may have. "
   ]
  },
  {
   "cell_type": "markdown",
   "id": "a9565d0d",
   "metadata": {},
   "source": [
    "The Airbnb dataset consists of 81 columns and 30,179 rows in its raw form."
   ]
  },
  {
   "cell_type": "code",
   "execution_count": 11,
   "id": "12fdb7bc",
   "metadata": {},
   "outputs": [],
   "source": [
    "airbnb = pd.read_csv('airbnb_nyc.csv') #load in data"
   ]
  },
  {
   "cell_type": "code",
   "execution_count": 12,
   "id": "a8f07ca7",
   "metadata": {
    "scrolled": false
   },
   "outputs": [
    {
     "data": {
      "text/html": [
       "<div>\n",
       "<style scoped>\n",
       "    .dataframe tbody tr th:only-of-type {\n",
       "        vertical-align: middle;\n",
       "    }\n",
       "\n",
       "    .dataframe tbody tr th {\n",
       "        vertical-align: top;\n",
       "    }\n",
       "\n",
       "    .dataframe thead th {\n",
       "        text-align: right;\n",
       "    }\n",
       "</style>\n",
       "<table border=\"1\" class=\"dataframe\">\n",
       "  <thead>\n",
       "    <tr style=\"text-align: right;\">\n",
       "      <th></th>\n",
       "      <th>id</th>\n",
       "      <th>name</th>\n",
       "      <th>summary</th>\n",
       "      <th>description</th>\n",
       "      <th>experiences_offered</th>\n",
       "      <th>neighborhood_overview</th>\n",
       "      <th>transit</th>\n",
       "      <th>house_rules</th>\n",
       "      <th>host_id</th>\n",
       "      <th>host_since</th>\n",
       "      <th>...</th>\n",
       "      <th>hot_tub_sauna_or_pool</th>\n",
       "      <th>internet</th>\n",
       "      <th>long_term_stays</th>\n",
       "      <th>pets_allowed</th>\n",
       "      <th>private_entrance</th>\n",
       "      <th>secure</th>\n",
       "      <th>self_check_in</th>\n",
       "      <th>smoking_allowed</th>\n",
       "      <th>accessible</th>\n",
       "      <th>event_suitable</th>\n",
       "    </tr>\n",
       "  </thead>\n",
       "  <tbody>\n",
       "    <tr>\n",
       "      <th>0</th>\n",
       "      <td>2539</td>\n",
       "      <td>Clean &amp; quiet apt home by the park</td>\n",
       "      <td>Renovated apt home in elevator building.</td>\n",
       "      <td>Renovated apt home in elevator building. Spaci...</td>\n",
       "      <td>none</td>\n",
       "      <td>Close to Prospect Park and Historic Ditmas Park</td>\n",
       "      <td>Very close to F and G trains and Express bus i...</td>\n",
       "      <td>-The security and comfort of all our guests is...</td>\n",
       "      <td>2787</td>\n",
       "      <td>39698.0</td>\n",
       "      <td>...</td>\n",
       "      <td>-1</td>\n",
       "      <td>1</td>\n",
       "      <td>1</td>\n",
       "      <td>-1</td>\n",
       "      <td>-1</td>\n",
       "      <td>1</td>\n",
       "      <td>1</td>\n",
       "      <td>-1</td>\n",
       "      <td>1</td>\n",
       "      <td>1</td>\n",
       "    </tr>\n",
       "    <tr>\n",
       "      <th>1</th>\n",
       "      <td>3647</td>\n",
       "      <td>THE VILLAGE OF HARLEM....NEW YORK !</td>\n",
       "      <td>NaN</td>\n",
       "      <td>WELCOME TO OUR INTERNATIONAL URBAN COMMUNITY T...</td>\n",
       "      <td>none</td>\n",
       "      <td>NaN</td>\n",
       "      <td>NaN</td>\n",
       "      <td>Upon arrival please have a legibile copy of yo...</td>\n",
       "      <td>4632</td>\n",
       "      <td>39777.0</td>\n",
       "      <td>...</td>\n",
       "      <td>-1</td>\n",
       "      <td>1</td>\n",
       "      <td>-1</td>\n",
       "      <td>-1</td>\n",
       "      <td>-1</td>\n",
       "      <td>-1</td>\n",
       "      <td>-1</td>\n",
       "      <td>-1</td>\n",
       "      <td>-1</td>\n",
       "      <td>-1</td>\n",
       "    </tr>\n",
       "    <tr>\n",
       "      <th>2</th>\n",
       "      <td>7750</td>\n",
       "      <td>Huge 2 BR Upper East  Cental Park</td>\n",
       "      <td>NaN</td>\n",
       "      <td>Large Furnished 2BR one block  to Central Park...</td>\n",
       "      <td>none</td>\n",
       "      <td>NaN</td>\n",
       "      <td>NaN</td>\n",
       "      <td>NaN</td>\n",
       "      <td>17985</td>\n",
       "      <td>39953.0</td>\n",
       "      <td>...</td>\n",
       "      <td>-1</td>\n",
       "      <td>1</td>\n",
       "      <td>-1</td>\n",
       "      <td>1</td>\n",
       "      <td>-1</td>\n",
       "      <td>-1</td>\n",
       "      <td>-1</td>\n",
       "      <td>-1</td>\n",
       "      <td>-1</td>\n",
       "      <td>-1</td>\n",
       "    </tr>\n",
       "    <tr>\n",
       "      <th>3</th>\n",
       "      <td>8505</td>\n",
       "      <td>Sunny Bedroom Across Prospect Park</td>\n",
       "      <td>Just renovated sun drenched bedroom in a quiet...</td>\n",
       "      <td>Just renovated sun drenched bedroom in a quiet...</td>\n",
       "      <td>none</td>\n",
       "      <td>Quiet and beautiful Windsor Terrace. The apart...</td>\n",
       "      <td>Ten minutes walk to the 15th sheet F&amp;G train s...</td>\n",
       "      <td>- No shoes in the house - Quiet hours after 11...</td>\n",
       "      <td>25326</td>\n",
       "      <td>40006.0</td>\n",
       "      <td>...</td>\n",
       "      <td>-1</td>\n",
       "      <td>1</td>\n",
       "      <td>-1</td>\n",
       "      <td>-1</td>\n",
       "      <td>-1</td>\n",
       "      <td>-1</td>\n",
       "      <td>-1</td>\n",
       "      <td>-1</td>\n",
       "      <td>-1</td>\n",
       "      <td>-1</td>\n",
       "    </tr>\n",
       "    <tr>\n",
       "      <th>4</th>\n",
       "      <td>8700</td>\n",
       "      <td>Magnifique Suite au N de Manhattan - vue Cloitres</td>\n",
       "      <td>Suite de 20 m2 a 5 min des 2 lignes de metro a...</td>\n",
       "      <td>Suite de 20 m2 a 5 min des 2 lignes de metro a...</td>\n",
       "      <td>none</td>\n",
       "      <td>NaN</td>\n",
       "      <td>Metro 1 et A</td>\n",
       "      <td>NaN</td>\n",
       "      <td>26394</td>\n",
       "      <td>40014.0</td>\n",
       "      <td>...</td>\n",
       "      <td>-1</td>\n",
       "      <td>1</td>\n",
       "      <td>-1</td>\n",
       "      <td>-1</td>\n",
       "      <td>-1</td>\n",
       "      <td>-1</td>\n",
       "      <td>-1</td>\n",
       "      <td>-1</td>\n",
       "      <td>-1</td>\n",
       "      <td>-1</td>\n",
       "    </tr>\n",
       "  </tbody>\n",
       "</table>\n",
       "<p>5 rows × 81 columns</p>\n",
       "</div>"
      ],
      "text/plain": [
       "     id                                               name  \\\n",
       "0  2539                 Clean & quiet apt home by the park   \n",
       "1  3647                THE VILLAGE OF HARLEM....NEW YORK !   \n",
       "2  7750                  Huge 2 BR Upper East  Cental Park   \n",
       "3  8505                 Sunny Bedroom Across Prospect Park   \n",
       "4  8700  Magnifique Suite au N de Manhattan - vue Cloitres   \n",
       "\n",
       "                                             summary  \\\n",
       "0           Renovated apt home in elevator building.   \n",
       "1                                                NaN   \n",
       "2                                                NaN   \n",
       "3  Just renovated sun drenched bedroom in a quiet...   \n",
       "4  Suite de 20 m2 a 5 min des 2 lignes de metro a...   \n",
       "\n",
       "                                         description experiences_offered  \\\n",
       "0  Renovated apt home in elevator building. Spaci...                none   \n",
       "1  WELCOME TO OUR INTERNATIONAL URBAN COMMUNITY T...                none   \n",
       "2  Large Furnished 2BR one block  to Central Park...                none   \n",
       "3  Just renovated sun drenched bedroom in a quiet...                none   \n",
       "4  Suite de 20 m2 a 5 min des 2 lignes de metro a...                none   \n",
       "\n",
       "                               neighborhood_overview  \\\n",
       "0    Close to Prospect Park and Historic Ditmas Park   \n",
       "1                                                NaN   \n",
       "2                                                NaN   \n",
       "3  Quiet and beautiful Windsor Terrace. The apart...   \n",
       "4                                                NaN   \n",
       "\n",
       "                                             transit  \\\n",
       "0  Very close to F and G trains and Express bus i...   \n",
       "1                                                NaN   \n",
       "2                                                NaN   \n",
       "3  Ten minutes walk to the 15th sheet F&G train s...   \n",
       "4                                       Metro 1 et A   \n",
       "\n",
       "                                         house_rules  host_id  host_since  \\\n",
       "0  -The security and comfort of all our guests is...     2787     39698.0   \n",
       "1  Upon arrival please have a legibile copy of yo...     4632     39777.0   \n",
       "2                                                NaN    17985     39953.0   \n",
       "3  - No shoes in the house - Quiet hours after 11...    25326     40006.0   \n",
       "4                                                NaN    26394     40014.0   \n",
       "\n",
       "   ... hot_tub_sauna_or_pool  internet  long_term_stays  pets_allowed  \\\n",
       "0  ...                    -1         1                1            -1   \n",
       "1  ...                    -1         1               -1            -1   \n",
       "2  ...                    -1         1               -1             1   \n",
       "3  ...                    -1         1               -1            -1   \n",
       "4  ...                    -1         1               -1            -1   \n",
       "\n",
       "   private_entrance secure self_check_in  smoking_allowed  accessible  \\\n",
       "0                -1      1             1               -1           1   \n",
       "1                -1     -1            -1               -1          -1   \n",
       "2                -1     -1            -1               -1          -1   \n",
       "3                -1     -1            -1               -1          -1   \n",
       "4                -1     -1            -1               -1          -1   \n",
       "\n",
       "  event_suitable  \n",
       "0              1  \n",
       "1             -1  \n",
       "2             -1  \n",
       "3             -1  \n",
       "4             -1  \n",
       "\n",
       "[5 rows x 81 columns]"
      ]
     },
     "execution_count": 12,
     "metadata": {},
     "output_type": "execute_result"
    }
   ],
   "source": [
    "airbnb.head() #looking at first few rows of data\n"
   ]
  },
  {
   "cell_type": "code",
   "execution_count": 13,
   "id": "7d0436a7",
   "metadata": {},
   "outputs": [
    {
     "data": {
      "text/plain": [
       "(30179, 81)"
      ]
     },
     "execution_count": 13,
     "metadata": {},
     "output_type": "execute_result"
    }
   ],
   "source": [
    "airbnb.shape #provides columns and rows"
   ]
  },
  {
   "cell_type": "markdown",
   "id": "c79d0b5f",
   "metadata": {},
   "source": [
    "I noticed when first looking at the head and dataset, that the 'experiences offered' column all appeared to say none. So I deciced to look into this first as part of processing my data. "
   ]
  },
  {
   "cell_type": "code",
   "execution_count": 14,
   "id": "83fa8978",
   "metadata": {},
   "outputs": [
    {
     "data": {
      "text/plain": [
       "0"
      ]
     },
     "execution_count": 14,
     "metadata": {},
     "output_type": "execute_result"
    }
   ],
   "source": [
    "experiences_count = sum(airbnb['experiences_offered'] != 'none') #created a variable to sum the amount of elements in the column 'experiences_offered' where the value != 'none'\n",
    "experiences_count"
   ]
  },
  {
   "cell_type": "markdown",
   "id": "0337806f",
   "metadata": {},
   "source": [
    "Just to make sure, I did the same thing but changed it to == 'none', and the result showed me that for every row, the value in this field is none. "
   ]
  },
  {
   "cell_type": "code",
   "execution_count": 15,
   "id": "c1f2cdfe",
   "metadata": {},
   "outputs": [
    {
     "data": {
      "text/plain": [
       "30179"
      ]
     },
     "execution_count": 15,
     "metadata": {},
     "output_type": "execute_result"
    }
   ],
   "source": [
    "experiences_count_none = sum(airbnb['experiences_offered'] == 'none') #created a variable to sum the amount of elements in the column 'experiences_offered' where the value == 'none'\n",
    "experiences_count_none"
   ]
  },
  {
   "cell_type": "code",
   "execution_count": 16,
   "id": "f1c10763",
   "metadata": {},
   "outputs": [],
   "source": [
    "airbnb = airbnb.drop('experiences_offered', axis=1)"
   ]
  },
  {
   "cell_type": "code",
   "execution_count": 17,
   "id": "f1bdf4d5",
   "metadata": {},
   "outputs": [
    {
     "data": {
      "text/html": [
       "<div>\n",
       "<style scoped>\n",
       "    .dataframe tbody tr th:only-of-type {\n",
       "        vertical-align: middle;\n",
       "    }\n",
       "\n",
       "    .dataframe tbody tr th {\n",
       "        vertical-align: top;\n",
       "    }\n",
       "\n",
       "    .dataframe thead th {\n",
       "        text-align: right;\n",
       "    }\n",
       "</style>\n",
       "<table border=\"1\" class=\"dataframe\">\n",
       "  <thead>\n",
       "    <tr style=\"text-align: right;\">\n",
       "      <th></th>\n",
       "      <th>id</th>\n",
       "      <th>name</th>\n",
       "      <th>summary</th>\n",
       "      <th>description</th>\n",
       "      <th>neighborhood_overview</th>\n",
       "      <th>transit</th>\n",
       "      <th>house_rules</th>\n",
       "      <th>host_id</th>\n",
       "      <th>host_since</th>\n",
       "      <th>host_response_time</th>\n",
       "      <th>...</th>\n",
       "      <th>hot_tub_sauna_or_pool</th>\n",
       "      <th>internet</th>\n",
       "      <th>long_term_stays</th>\n",
       "      <th>pets_allowed</th>\n",
       "      <th>private_entrance</th>\n",
       "      <th>secure</th>\n",
       "      <th>self_check_in</th>\n",
       "      <th>smoking_allowed</th>\n",
       "      <th>accessible</th>\n",
       "      <th>event_suitable</th>\n",
       "    </tr>\n",
       "  </thead>\n",
       "  <tbody>\n",
       "    <tr>\n",
       "      <th>0</th>\n",
       "      <td>2539</td>\n",
       "      <td>Clean &amp; quiet apt home by the park</td>\n",
       "      <td>Renovated apt home in elevator building.</td>\n",
       "      <td>Renovated apt home in elevator building. Spaci...</td>\n",
       "      <td>Close to Prospect Park and Historic Ditmas Park</td>\n",
       "      <td>Very close to F and G trains and Express bus i...</td>\n",
       "      <td>-The security and comfort of all our guests is...</td>\n",
       "      <td>2787</td>\n",
       "      <td>39698.0</td>\n",
       "      <td>within an hour</td>\n",
       "      <td>...</td>\n",
       "      <td>-1</td>\n",
       "      <td>1</td>\n",
       "      <td>1</td>\n",
       "      <td>-1</td>\n",
       "      <td>-1</td>\n",
       "      <td>1</td>\n",
       "      <td>1</td>\n",
       "      <td>-1</td>\n",
       "      <td>1</td>\n",
       "      <td>1</td>\n",
       "    </tr>\n",
       "    <tr>\n",
       "      <th>1</th>\n",
       "      <td>3647</td>\n",
       "      <td>THE VILLAGE OF HARLEM....NEW YORK !</td>\n",
       "      <td>NaN</td>\n",
       "      <td>WELCOME TO OUR INTERNATIONAL URBAN COMMUNITY T...</td>\n",
       "      <td>NaN</td>\n",
       "      <td>NaN</td>\n",
       "      <td>Upon arrival please have a legibile copy of yo...</td>\n",
       "      <td>4632</td>\n",
       "      <td>39777.0</td>\n",
       "      <td>within a day</td>\n",
       "      <td>...</td>\n",
       "      <td>-1</td>\n",
       "      <td>1</td>\n",
       "      <td>-1</td>\n",
       "      <td>-1</td>\n",
       "      <td>-1</td>\n",
       "      <td>-1</td>\n",
       "      <td>-1</td>\n",
       "      <td>-1</td>\n",
       "      <td>-1</td>\n",
       "      <td>-1</td>\n",
       "    </tr>\n",
       "    <tr>\n",
       "      <th>2</th>\n",
       "      <td>7750</td>\n",
       "      <td>Huge 2 BR Upper East  Cental Park</td>\n",
       "      <td>NaN</td>\n",
       "      <td>Large Furnished 2BR one block  to Central Park...</td>\n",
       "      <td>NaN</td>\n",
       "      <td>NaN</td>\n",
       "      <td>NaN</td>\n",
       "      <td>17985</td>\n",
       "      <td>39953.0</td>\n",
       "      <td>within a day</td>\n",
       "      <td>...</td>\n",
       "      <td>-1</td>\n",
       "      <td>1</td>\n",
       "      <td>-1</td>\n",
       "      <td>1</td>\n",
       "      <td>-1</td>\n",
       "      <td>-1</td>\n",
       "      <td>-1</td>\n",
       "      <td>-1</td>\n",
       "      <td>-1</td>\n",
       "      <td>-1</td>\n",
       "    </tr>\n",
       "    <tr>\n",
       "      <th>3</th>\n",
       "      <td>8505</td>\n",
       "      <td>Sunny Bedroom Across Prospect Park</td>\n",
       "      <td>Just renovated sun drenched bedroom in a quiet...</td>\n",
       "      <td>Just renovated sun drenched bedroom in a quiet...</td>\n",
       "      <td>Quiet and beautiful Windsor Terrace. The apart...</td>\n",
       "      <td>Ten minutes walk to the 15th sheet F&amp;G train s...</td>\n",
       "      <td>- No shoes in the house - Quiet hours after 11...</td>\n",
       "      <td>25326</td>\n",
       "      <td>40006.0</td>\n",
       "      <td>within an hour</td>\n",
       "      <td>...</td>\n",
       "      <td>-1</td>\n",
       "      <td>1</td>\n",
       "      <td>-1</td>\n",
       "      <td>-1</td>\n",
       "      <td>-1</td>\n",
       "      <td>-1</td>\n",
       "      <td>-1</td>\n",
       "      <td>-1</td>\n",
       "      <td>-1</td>\n",
       "      <td>-1</td>\n",
       "    </tr>\n",
       "    <tr>\n",
       "      <th>4</th>\n",
       "      <td>8700</td>\n",
       "      <td>Magnifique Suite au N de Manhattan - vue Cloitres</td>\n",
       "      <td>Suite de 20 m2 a 5 min des 2 lignes de metro a...</td>\n",
       "      <td>Suite de 20 m2 a 5 min des 2 lignes de metro a...</td>\n",
       "      <td>NaN</td>\n",
       "      <td>Metro 1 et A</td>\n",
       "      <td>NaN</td>\n",
       "      <td>26394</td>\n",
       "      <td>40014.0</td>\n",
       "      <td>NaN</td>\n",
       "      <td>...</td>\n",
       "      <td>-1</td>\n",
       "      <td>1</td>\n",
       "      <td>-1</td>\n",
       "      <td>-1</td>\n",
       "      <td>-1</td>\n",
       "      <td>-1</td>\n",
       "      <td>-1</td>\n",
       "      <td>-1</td>\n",
       "      <td>-1</td>\n",
       "      <td>-1</td>\n",
       "    </tr>\n",
       "  </tbody>\n",
       "</table>\n",
       "<p>5 rows × 80 columns</p>\n",
       "</div>"
      ],
      "text/plain": [
       "     id                                               name  \\\n",
       "0  2539                 Clean & quiet apt home by the park   \n",
       "1  3647                THE VILLAGE OF HARLEM....NEW YORK !   \n",
       "2  7750                  Huge 2 BR Upper East  Cental Park   \n",
       "3  8505                 Sunny Bedroom Across Prospect Park   \n",
       "4  8700  Magnifique Suite au N de Manhattan - vue Cloitres   \n",
       "\n",
       "                                             summary  \\\n",
       "0           Renovated apt home in elevator building.   \n",
       "1                                                NaN   \n",
       "2                                                NaN   \n",
       "3  Just renovated sun drenched bedroom in a quiet...   \n",
       "4  Suite de 20 m2 a 5 min des 2 lignes de metro a...   \n",
       "\n",
       "                                         description  \\\n",
       "0  Renovated apt home in elevator building. Spaci...   \n",
       "1  WELCOME TO OUR INTERNATIONAL URBAN COMMUNITY T...   \n",
       "2  Large Furnished 2BR one block  to Central Park...   \n",
       "3  Just renovated sun drenched bedroom in a quiet...   \n",
       "4  Suite de 20 m2 a 5 min des 2 lignes de metro a...   \n",
       "\n",
       "                               neighborhood_overview  \\\n",
       "0    Close to Prospect Park and Historic Ditmas Park   \n",
       "1                                                NaN   \n",
       "2                                                NaN   \n",
       "3  Quiet and beautiful Windsor Terrace. The apart...   \n",
       "4                                                NaN   \n",
       "\n",
       "                                             transit  \\\n",
       "0  Very close to F and G trains and Express bus i...   \n",
       "1                                                NaN   \n",
       "2                                                NaN   \n",
       "3  Ten minutes walk to the 15th sheet F&G train s...   \n",
       "4                                       Metro 1 et A   \n",
       "\n",
       "                                         house_rules  host_id  host_since  \\\n",
       "0  -The security and comfort of all our guests is...     2787     39698.0   \n",
       "1  Upon arrival please have a legibile copy of yo...     4632     39777.0   \n",
       "2                                                NaN    17985     39953.0   \n",
       "3  - No shoes in the house - Quiet hours after 11...    25326     40006.0   \n",
       "4                                                NaN    26394     40014.0   \n",
       "\n",
       "  host_response_time  ...  hot_tub_sauna_or_pool  internet  long_term_stays  \\\n",
       "0     within an hour  ...                     -1         1                1   \n",
       "1       within a day  ...                     -1         1               -1   \n",
       "2       within a day  ...                     -1         1               -1   \n",
       "3     within an hour  ...                     -1         1               -1   \n",
       "4                NaN  ...                     -1         1               -1   \n",
       "\n",
       "   pets_allowed private_entrance secure  self_check_in  smoking_allowed  \\\n",
       "0            -1               -1      1              1               -1   \n",
       "1            -1               -1     -1             -1               -1   \n",
       "2             1               -1     -1             -1               -1   \n",
       "3            -1               -1     -1             -1               -1   \n",
       "4            -1               -1     -1             -1               -1   \n",
       "\n",
       "  accessible event_suitable  \n",
       "0          1              1  \n",
       "1         -1             -1  \n",
       "2         -1             -1  \n",
       "3         -1             -1  \n",
       "4         -1             -1  \n",
       "\n",
       "[5 rows x 80 columns]"
      ]
     },
     "execution_count": 17,
     "metadata": {},
     "output_type": "execute_result"
    }
   ],
   "source": [
    "airbnb.head()"
   ]
  },
  {
   "cell_type": "code",
   "execution_count": 19,
   "id": "a403f2a6",
   "metadata": {},
   "outputs": [
    {
     "data": {
      "text/plain": [
       "Index(['id', 'name', 'summary', 'description', 'neighborhood_overview',\n",
       "       'transit', 'house_rules', 'host_id', 'host_since', 'host_response_time',\n",
       "       'host_response_rate', 'host_is_superhost', 'host_listings_count',\n",
       "       'host_identity_verified', 'street', 'neighbourhood', 'latitude',\n",
       "       'longitude', 'property_type', 'room_type', 'accommodates', 'bathrooms',\n",
       "       'bedrooms', 'beds', 'bed_type', 'amenities', 'price', 'guests_included',\n",
       "       'extra_people', 'minimum_nights', 'calendar_updated',\n",
       "       'has_availability', 'availability_30', 'availability_60',\n",
       "       'availability_90', 'availability_365', 'number_of_reviews',\n",
       "       'number_of_reviews_ltm', 'review_scores_rating',\n",
       "       'review_scores_accuracy', 'review_scores_cleanliness',\n",
       "       'review_scores_checkin', 'review_scores_communication',\n",
       "       'review_scores_location', 'review_scores_value', 'instant_bookable',\n",
       "       'cancellation_policy', 'calculated_host_listings_count',\n",
       "       'calculated_host_listings_count_entire_homes',\n",
       "       'calculated_host_listings_count_private_rooms',\n",
       "       'calculated_host_listings_count_shared_rooms', 'reviews_per_month',\n",
       "       'check_in_24h', 'air_conditioning', 'high_end_electronics', 'bbq',\n",
       "       'balcony', 'nature_and_views', 'bed_linen', 'breakfast', 'tv',\n",
       "       'coffee_machine', 'cooking_basics', 'white_goods', 'elevator', 'gym',\n",
       "       'child_friendly', 'parking', 'outdoor_space', 'host_greeting',\n",
       "       'hot_tub_sauna_or_pool', 'internet', 'long_term_stays', 'pets_allowed',\n",
       "       'private_entrance', 'secure', 'self_check_in', 'smoking_allowed',\n",
       "       'accessible', 'event_suitable'],\n",
       "      dtype='object')"
      ]
     },
     "execution_count": 19,
     "metadata": {},
     "output_type": "execute_result"
    }
   ],
   "source": [
    "airbnb.columns #View column names"
   ]
  },
  {
   "cell_type": "markdown",
   "id": "03c0cb3e",
   "metadata": {},
   "source": [
    "### Checking for missing data\n",
    "\n",
    "In my analysis, I want to see if 'nature_and_views' impacts the price and ratings of bookings. Firstly, I want to check if there are any missing or NaN values in the 'nature_and_views' column, and how many occur for -1 and 1"
   ]
  },
  {
   "cell_type": "code",
   "execution_count": 22,
   "id": "54e0f7d1",
   "metadata": {},
   "outputs": [
    {
     "data": {
      "text/plain": [
       "-1    29942\n",
       " 1      237\n",
       "Name: nature_and_views, dtype: int64"
      ]
     },
     "execution_count": 22,
     "metadata": {},
     "output_type": "execute_result"
    }
   ],
   "source": [
    "nature = airbnb['nature_and_views']\n",
    "nature.value_counts().sort_index()"
   ]
  },
  {
   "cell_type": "code",
   "execution_count": 34,
   "id": "9b4fa75d",
   "metadata": {},
   "outputs": [
    {
     "data": {
      "text/html": [
       "<div>\n",
       "<style scoped>\n",
       "    .dataframe tbody tr th:only-of-type {\n",
       "        vertical-align: middle;\n",
       "    }\n",
       "\n",
       "    .dataframe tbody tr th {\n",
       "        vertical-align: top;\n",
       "    }\n",
       "\n",
       "    .dataframe thead th {\n",
       "        text-align: right;\n",
       "    }\n",
       "</style>\n",
       "<table border=\"1\" class=\"dataframe\">\n",
       "  <thead>\n",
       "    <tr style=\"text-align: right;\">\n",
       "      <th></th>\n",
       "      <th>nature_and_views</th>\n",
       "      <th>review_scores_rating</th>\n",
       "      <th>price</th>\n",
       "    </tr>\n",
       "  </thead>\n",
       "  <tbody>\n",
       "    <tr>\n",
       "      <th>0</th>\n",
       "      <td>-1</td>\n",
       "      <td>98.0</td>\n",
       "      <td>149</td>\n",
       "    </tr>\n",
       "    <tr>\n",
       "      <th>1</th>\n",
       "      <td>-1</td>\n",
       "      <td>NaN</td>\n",
       "      <td>150</td>\n",
       "    </tr>\n",
       "    <tr>\n",
       "      <th>2</th>\n",
       "      <td>-1</td>\n",
       "      <td>NaN</td>\n",
       "      <td>190</td>\n",
       "    </tr>\n",
       "    <tr>\n",
       "      <th>3</th>\n",
       "      <td>-1</td>\n",
       "      <td>97.0</td>\n",
       "      <td>60</td>\n",
       "    </tr>\n",
       "    <tr>\n",
       "      <th>4</th>\n",
       "      <td>-1</td>\n",
       "      <td>NaN</td>\n",
       "      <td>80</td>\n",
       "    </tr>\n",
       "    <tr>\n",
       "      <th>...</th>\n",
       "      <td>...</td>\n",
       "      <td>...</td>\n",
       "      <td>...</td>\n",
       "    </tr>\n",
       "    <tr>\n",
       "      <th>30174</th>\n",
       "      <td>-1</td>\n",
       "      <td>NaN</td>\n",
       "      <td>65</td>\n",
       "    </tr>\n",
       "    <tr>\n",
       "      <th>30175</th>\n",
       "      <td>-1</td>\n",
       "      <td>NaN</td>\n",
       "      <td>70</td>\n",
       "    </tr>\n",
       "    <tr>\n",
       "      <th>30176</th>\n",
       "      <td>-1</td>\n",
       "      <td>NaN</td>\n",
       "      <td>40</td>\n",
       "    </tr>\n",
       "    <tr>\n",
       "      <th>30177</th>\n",
       "      <td>-1</td>\n",
       "      <td>NaN</td>\n",
       "      <td>55</td>\n",
       "    </tr>\n",
       "    <tr>\n",
       "      <th>30178</th>\n",
       "      <td>-1</td>\n",
       "      <td>NaN</td>\n",
       "      <td>90</td>\n",
       "    </tr>\n",
       "  </tbody>\n",
       "</table>\n",
       "<p>30179 rows × 3 columns</p>\n",
       "</div>"
      ],
      "text/plain": [
       "       nature_and_views  review_scores_rating  price\n",
       "0                    -1                  98.0    149\n",
       "1                    -1                   NaN    150\n",
       "2                    -1                   NaN    190\n",
       "3                    -1                  97.0     60\n",
       "4                    -1                   NaN     80\n",
       "...                 ...                   ...    ...\n",
       "30174                -1                   NaN     65\n",
       "30175                -1                   NaN     70\n",
       "30176                -1                   NaN     40\n",
       "30177                -1                   NaN     55\n",
       "30178                -1                   NaN     90\n",
       "\n",
       "[30179 rows x 3 columns]"
      ]
     },
     "execution_count": 34,
     "metadata": {},
     "output_type": "execute_result"
    }
   ],
   "source": [
    "nature_and_views_rating_price = airbnb[['nature_and_views', 'review_scores_rating', 'price']]\n",
    "nature_and_views_rating_price"
   ]
  },
  {
   "cell_type": "markdown",
   "id": "a97bcf77",
   "metadata": {},
   "source": [
    "When pulling the columns I'm interested in, I can see some of the review scores have no data, therefore I need to clean this up. "
   ]
  },
  {
   "cell_type": "code",
   "execution_count": 35,
   "id": "b8eff596",
   "metadata": {},
   "outputs": [
    {
     "data": {
      "text/html": [
       "<div>\n",
       "<style scoped>\n",
       "    .dataframe tbody tr th:only-of-type {\n",
       "        vertical-align: middle;\n",
       "    }\n",
       "\n",
       "    .dataframe tbody tr th {\n",
       "        vertical-align: top;\n",
       "    }\n",
       "\n",
       "    .dataframe thead th {\n",
       "        text-align: right;\n",
       "    }\n",
       "</style>\n",
       "<table border=\"1\" class=\"dataframe\">\n",
       "  <thead>\n",
       "    <tr style=\"text-align: right;\">\n",
       "      <th></th>\n",
       "      <th>nature_and_views</th>\n",
       "      <th>review_scores_rating</th>\n",
       "      <th>price</th>\n",
       "    </tr>\n",
       "  </thead>\n",
       "  <tbody>\n",
       "    <tr>\n",
       "      <th>0</th>\n",
       "      <td>-1</td>\n",
       "      <td>98.0</td>\n",
       "      <td>149</td>\n",
       "    </tr>\n",
       "    <tr>\n",
       "      <th>3</th>\n",
       "      <td>-1</td>\n",
       "      <td>97.0</td>\n",
       "      <td>60</td>\n",
       "    </tr>\n",
       "    <tr>\n",
       "      <th>6</th>\n",
       "      <td>-1</td>\n",
       "      <td>97.0</td>\n",
       "      <td>120</td>\n",
       "    </tr>\n",
       "    <tr>\n",
       "      <th>7</th>\n",
       "      <td>-1</td>\n",
       "      <td>96.0</td>\n",
       "      <td>150</td>\n",
       "    </tr>\n",
       "    <tr>\n",
       "      <th>8</th>\n",
       "      <td>-1</td>\n",
       "      <td>94.0</td>\n",
       "      <td>115</td>\n",
       "    </tr>\n",
       "    <tr>\n",
       "      <th>...</th>\n",
       "      <td>...</td>\n",
       "      <td>...</td>\n",
       "      <td>...</td>\n",
       "    </tr>\n",
       "    <tr>\n",
       "      <th>29948</th>\n",
       "      <td>-1</td>\n",
       "      <td>100.0</td>\n",
       "      <td>110</td>\n",
       "    </tr>\n",
       "    <tr>\n",
       "      <th>29950</th>\n",
       "      <td>-1</td>\n",
       "      <td>100.0</td>\n",
       "      <td>33</td>\n",
       "    </tr>\n",
       "    <tr>\n",
       "      <th>30082</th>\n",
       "      <td>-1</td>\n",
       "      <td>100.0</td>\n",
       "      <td>129</td>\n",
       "    </tr>\n",
       "    <tr>\n",
       "      <th>30088</th>\n",
       "      <td>-1</td>\n",
       "      <td>100.0</td>\n",
       "      <td>45</td>\n",
       "    </tr>\n",
       "    <tr>\n",
       "      <th>30097</th>\n",
       "      <td>-1</td>\n",
       "      <td>100.0</td>\n",
       "      <td>235</td>\n",
       "    </tr>\n",
       "  </tbody>\n",
       "</table>\n",
       "<p>21094 rows × 3 columns</p>\n",
       "</div>"
      ],
      "text/plain": [
       "       nature_and_views  review_scores_rating  price\n",
       "0                    -1                  98.0    149\n",
       "3                    -1                  97.0     60\n",
       "6                    -1                  97.0    120\n",
       "7                    -1                  96.0    150\n",
       "8                    -1                  94.0    115\n",
       "...                 ...                   ...    ...\n",
       "29948                -1                 100.0    110\n",
       "29950                -1                 100.0     33\n",
       "30082                -1                 100.0    129\n",
       "30088                -1                 100.0     45\n",
       "30097                -1                 100.0    235\n",
       "\n",
       "[21094 rows x 3 columns]"
      ]
     },
     "execution_count": 35,
     "metadata": {},
     "output_type": "execute_result"
    }
   ],
   "source": [
    "nature_and_views_rating_price.dropna(how=\"any\", subset=[\"review_scores_rating\"])"
   ]
  },
  {
   "cell_type": "markdown",
   "id": "c870d3a9",
   "metadata": {},
   "source": [
    "So now I have my smaller, cleaned up data set, I can start to look at some basic information."
   ]
  },
  {
   "cell_type": "code",
   "execution_count": 37,
   "id": "095085e4",
   "metadata": {},
   "outputs": [
    {
     "data": {
      "text/html": [
       "<div>\n",
       "<style scoped>\n",
       "    .dataframe tbody tr th:only-of-type {\n",
       "        vertical-align: middle;\n",
       "    }\n",
       "\n",
       "    .dataframe tbody tr th {\n",
       "        vertical-align: top;\n",
       "    }\n",
       "\n",
       "    .dataframe thead th {\n",
       "        text-align: right;\n",
       "    }\n",
       "</style>\n",
       "<table border=\"1\" class=\"dataframe\">\n",
       "  <thead>\n",
       "    <tr style=\"text-align: right;\">\n",
       "      <th></th>\n",
       "      <th>review_scores_rating</th>\n",
       "      <th>price</th>\n",
       "    </tr>\n",
       "  </thead>\n",
       "  <tbody>\n",
       "    <tr>\n",
       "      <th>count</th>\n",
       "      <td>21094.000000</td>\n",
       "      <td>30179.000000</td>\n",
       "    </tr>\n",
       "    <tr>\n",
       "      <th>mean</th>\n",
       "      <td>93.643975</td>\n",
       "      <td>132.949965</td>\n",
       "    </tr>\n",
       "    <tr>\n",
       "      <th>std</th>\n",
       "      <td>10.155133</td>\n",
       "      <td>93.151824</td>\n",
       "    </tr>\n",
       "    <tr>\n",
       "      <th>min</th>\n",
       "      <td>20.000000</td>\n",
       "      <td>0.000000</td>\n",
       "    </tr>\n",
       "    <tr>\n",
       "      <th>25%</th>\n",
       "      <td>91.000000</td>\n",
       "      <td>65.000000</td>\n",
       "    </tr>\n",
       "    <tr>\n",
       "      <th>50%</th>\n",
       "      <td>98.000000</td>\n",
       "      <td>100.000000</td>\n",
       "    </tr>\n",
       "    <tr>\n",
       "      <th>75%</th>\n",
       "      <td>100.000000</td>\n",
       "      <td>175.000000</td>\n",
       "    </tr>\n",
       "    <tr>\n",
       "      <th>max</th>\n",
       "      <td>100.000000</td>\n",
       "      <td>500.000000</td>\n",
       "    </tr>\n",
       "  </tbody>\n",
       "</table>\n",
       "</div>"
      ],
      "text/plain": [
       "       review_scores_rating         price\n",
       "count          21094.000000  30179.000000\n",
       "mean              93.643975    132.949965\n",
       "std               10.155133     93.151824\n",
       "min               20.000000      0.000000\n",
       "25%               91.000000     65.000000\n",
       "50%               98.000000    100.000000\n",
       "75%              100.000000    175.000000\n",
       "max              100.000000    500.000000"
      ]
     },
     "execution_count": 37,
     "metadata": {},
     "output_type": "execute_result"
    }
   ],
   "source": [
    "nature_and_views_rating_price[['review_scores_rating', 'price']].describe()"
   ]
  },
  {
   "cell_type": "markdown",
   "id": "a9e43725",
   "metadata": {},
   "source": [
    "My average price is £132.94, and average rating is around £94. What I did notice here was the minimum price was 0, which would skew my data quite a lot. I looked into this a bit more."
   ]
  },
  {
   "cell_type": "code",
   "execution_count": 47,
   "id": "d862cc4c",
   "metadata": {},
   "outputs": [
    {
     "data": {
      "text/html": [
       "<div>\n",
       "<style scoped>\n",
       "    .dataframe tbody tr th:only-of-type {\n",
       "        vertical-align: middle;\n",
       "    }\n",
       "\n",
       "    .dataframe tbody tr th {\n",
       "        vertical-align: top;\n",
       "    }\n",
       "\n",
       "    .dataframe thead th {\n",
       "        text-align: right;\n",
       "    }\n",
       "</style>\n",
       "<table border=\"1\" class=\"dataframe\">\n",
       "  <thead>\n",
       "    <tr style=\"text-align: right;\">\n",
       "      <th></th>\n",
       "      <th>id</th>\n",
       "      <th>name</th>\n",
       "      <th>summary</th>\n",
       "      <th>description</th>\n",
       "      <th>neighborhood_overview</th>\n",
       "      <th>transit</th>\n",
       "      <th>house_rules</th>\n",
       "      <th>host_id</th>\n",
       "      <th>host_since</th>\n",
       "      <th>host_response_time</th>\n",
       "      <th>...</th>\n",
       "      <th>hot_tub_sauna_or_pool</th>\n",
       "      <th>internet</th>\n",
       "      <th>long_term_stays</th>\n",
       "      <th>pets_allowed</th>\n",
       "      <th>private_entrance</th>\n",
       "      <th>secure</th>\n",
       "      <th>self_check_in</th>\n",
       "      <th>smoking_allowed</th>\n",
       "      <th>accessible</th>\n",
       "      <th>event_suitable</th>\n",
       "    </tr>\n",
       "  </thead>\n",
       "  <tbody>\n",
       "    <tr>\n",
       "      <th>12463</th>\n",
       "      <td>18750597</td>\n",
       "      <td>Huge Brooklyn Brownstone Living, Close to it all.</td>\n",
       "      <td>Great, Brooklyn, Brownstown. Large and bright ...</td>\n",
       "      <td>Great, Brooklyn, Brownstown. Large and bright ...</td>\n",
       "      <td>The neighborhood is friendly and lively. There...</td>\n",
       "      <td>This is a great location for every type of pub...</td>\n",
       "      <td>No parties</td>\n",
       "      <td>8993084</td>\n",
       "      <td>41539.0</td>\n",
       "      <td>within an hour</td>\n",
       "      <td>...</td>\n",
       "      <td>1</td>\n",
       "      <td>1</td>\n",
       "      <td>1</td>\n",
       "      <td>-1</td>\n",
       "      <td>1</td>\n",
       "      <td>-1</td>\n",
       "      <td>1</td>\n",
       "      <td>-1</td>\n",
       "      <td>-1</td>\n",
       "      <td>1</td>\n",
       "    </tr>\n",
       "    <tr>\n",
       "      <th>13911</th>\n",
       "      <td>20523843</td>\n",
       "      <td>MARTIAL LOFT 3: REDEMPTION (upstairs, 2nd room)</td>\n",
       "      <td>We're located in a beautiful newly renovated t...</td>\n",
       "      <td>We're located in a beautiful newly renovated t...</td>\n",
       "      <td>There are many nice venues, bars, coffee shops...</td>\n",
       "      <td>We are conveniently located near the J, M, and...</td>\n",
       "      <td>NaN</td>\n",
       "      <td>15787004</td>\n",
       "      <td>41779.0</td>\n",
       "      <td>within an hour</td>\n",
       "      <td>...</td>\n",
       "      <td>-1</td>\n",
       "      <td>-1</td>\n",
       "      <td>-1</td>\n",
       "      <td>-1</td>\n",
       "      <td>-1</td>\n",
       "      <td>-1</td>\n",
       "      <td>-1</td>\n",
       "      <td>-1</td>\n",
       "      <td>-1</td>\n",
       "      <td>-1</td>\n",
       "    </tr>\n",
       "    <tr>\n",
       "      <th>13987</th>\n",
       "      <td>20608117</td>\n",
       "      <td>Sunny, Quiet Room in Greenpoint</td>\n",
       "      <td>Queen size bed in bedroom overlooking the back...</td>\n",
       "      <td>Queen size bed in bedroom overlooking the back...</td>\n",
       "      <td>Maybe I'm biased but Greenpoint is the best ne...</td>\n",
       "      <td>I am 15 minute walk from the L train Graham st...</td>\n",
       "      <td>Please be respectful of the space. This is my ...</td>\n",
       "      <td>1641537</td>\n",
       "      <td>40931.0</td>\n",
       "      <td>NaN</td>\n",
       "      <td>...</td>\n",
       "      <td>-1</td>\n",
       "      <td>1</td>\n",
       "      <td>1</td>\n",
       "      <td>-1</td>\n",
       "      <td>1</td>\n",
       "      <td>-1</td>\n",
       "      <td>-1</td>\n",
       "      <td>-1</td>\n",
       "      <td>1</td>\n",
       "      <td>-1</td>\n",
       "    </tr>\n",
       "    <tr>\n",
       "      <th>14002</th>\n",
       "      <td>20624541</td>\n",
       "      <td>Modern apartment in the heart of Williamsburg</td>\n",
       "      <td>Minimalist loft apartment with a stylish balco...</td>\n",
       "      <td>Minimalist loft apartment with a stylish balco...</td>\n",
       "      <td>Want to experience New York but Brooklyn style...</td>\n",
       "      <td>Metro is best, taxi/uber/ lyft are at your doo...</td>\n",
       "      <td>The apartment is a smoke and drug free environ...</td>\n",
       "      <td>10132166</td>\n",
       "      <td>41597.0</td>\n",
       "      <td>within an hour</td>\n",
       "      <td>...</td>\n",
       "      <td>-1</td>\n",
       "      <td>1</td>\n",
       "      <td>-1</td>\n",
       "      <td>-1</td>\n",
       "      <td>1</td>\n",
       "      <td>-1</td>\n",
       "      <td>-1</td>\n",
       "      <td>-1</td>\n",
       "      <td>-1</td>\n",
       "      <td>-1</td>\n",
       "    </tr>\n",
       "    <tr>\n",
       "      <th>14607</th>\n",
       "      <td>21291569</td>\n",
       "      <td>Coliving in Brooklyn! Modern design / Shared room</td>\n",
       "      <td>Newly renovated, modern, spacious Outpost Club...</td>\n",
       "      <td>Newly renovated, modern, spacious Outpost Club...</td>\n",
       "      <td>Bushwick is a modern neighborhood in the north...</td>\n",
       "      <td>Halsey Street Station for J and Z train, Knick...</td>\n",
       "      <td>1) Price is per person – stay overnight is sin...</td>\n",
       "      <td>101970559</td>\n",
       "      <td>42674.0</td>\n",
       "      <td>within a few hours</td>\n",
       "      <td>...</td>\n",
       "      <td>-1</td>\n",
       "      <td>1</td>\n",
       "      <td>1</td>\n",
       "      <td>-1</td>\n",
       "      <td>-1</td>\n",
       "      <td>-1</td>\n",
       "      <td>1</td>\n",
       "      <td>-1</td>\n",
       "      <td>-1</td>\n",
       "      <td>-1</td>\n",
       "    </tr>\n",
       "    <tr>\n",
       "      <th>14621</th>\n",
       "      <td>21304320</td>\n",
       "      <td>Best Coliving space ever! Shared room.</td>\n",
       "      <td>The Outpost Club Co-Living residences are a be...</td>\n",
       "      <td>The Outpost Club Co-Living residences are a be...</td>\n",
       "      <td>Bushwick is a working-class neighborhood in th...</td>\n",
       "      <td>The Co-living is literally few blocks from the...</td>\n",
       "      <td>1) Price is per person – stay overnight is sin...</td>\n",
       "      <td>101970559</td>\n",
       "      <td>42674.0</td>\n",
       "      <td>within a few hours</td>\n",
       "      <td>...</td>\n",
       "      <td>-1</td>\n",
       "      <td>1</td>\n",
       "      <td>1</td>\n",
       "      <td>-1</td>\n",
       "      <td>-1</td>\n",
       "      <td>-1</td>\n",
       "      <td>1</td>\n",
       "      <td>-1</td>\n",
       "      <td>-1</td>\n",
       "      <td>-1</td>\n",
       "    </tr>\n",
       "  </tbody>\n",
       "</table>\n",
       "<p>6 rows × 80 columns</p>\n",
       "</div>"
      ],
      "text/plain": [
       "             id                                               name  \\\n",
       "12463  18750597  Huge Brooklyn Brownstone Living, Close to it all.   \n",
       "13911  20523843    MARTIAL LOFT 3: REDEMPTION (upstairs, 2nd room)   \n",
       "13987  20608117                    Sunny, Quiet Room in Greenpoint   \n",
       "14002  20624541      Modern apartment in the heart of Williamsburg   \n",
       "14607  21291569  Coliving in Brooklyn! Modern design / Shared room   \n",
       "14621  21304320             Best Coliving space ever! Shared room.   \n",
       "\n",
       "                                                 summary  \\\n",
       "12463  Great, Brooklyn, Brownstown. Large and bright ...   \n",
       "13911  We're located in a beautiful newly renovated t...   \n",
       "13987  Queen size bed in bedroom overlooking the back...   \n",
       "14002  Minimalist loft apartment with a stylish balco...   \n",
       "14607  Newly renovated, modern, spacious Outpost Club...   \n",
       "14621  The Outpost Club Co-Living residences are a be...   \n",
       "\n",
       "                                             description  \\\n",
       "12463  Great, Brooklyn, Brownstown. Large and bright ...   \n",
       "13911  We're located in a beautiful newly renovated t...   \n",
       "13987  Queen size bed in bedroom overlooking the back...   \n",
       "14002  Minimalist loft apartment with a stylish balco...   \n",
       "14607  Newly renovated, modern, spacious Outpost Club...   \n",
       "14621  The Outpost Club Co-Living residences are a be...   \n",
       "\n",
       "                                   neighborhood_overview  \\\n",
       "12463  The neighborhood is friendly and lively. There...   \n",
       "13911  There are many nice venues, bars, coffee shops...   \n",
       "13987  Maybe I'm biased but Greenpoint is the best ne...   \n",
       "14002  Want to experience New York but Brooklyn style...   \n",
       "14607  Bushwick is a modern neighborhood in the north...   \n",
       "14621  Bushwick is a working-class neighborhood in th...   \n",
       "\n",
       "                                                 transit  \\\n",
       "12463  This is a great location for every type of pub...   \n",
       "13911  We are conveniently located near the J, M, and...   \n",
       "13987  I am 15 minute walk from the L train Graham st...   \n",
       "14002  Metro is best, taxi/uber/ lyft are at your doo...   \n",
       "14607  Halsey Street Station for J and Z train, Knick...   \n",
       "14621  The Co-living is literally few blocks from the...   \n",
       "\n",
       "                                             house_rules    host_id  \\\n",
       "12463                                         No parties    8993084   \n",
       "13911                                                NaN   15787004   \n",
       "13987  Please be respectful of the space. This is my ...    1641537   \n",
       "14002  The apartment is a smoke and drug free environ...   10132166   \n",
       "14607  1) Price is per person – stay overnight is sin...  101970559   \n",
       "14621  1) Price is per person – stay overnight is sin...  101970559   \n",
       "\n",
       "       host_since  host_response_time  ...  hot_tub_sauna_or_pool  internet  \\\n",
       "12463     41539.0      within an hour  ...                      1         1   \n",
       "13911     41779.0      within an hour  ...                     -1        -1   \n",
       "13987     40931.0                 NaN  ...                     -1         1   \n",
       "14002     41597.0      within an hour  ...                     -1         1   \n",
       "14607     42674.0  within a few hours  ...                     -1         1   \n",
       "14621     42674.0  within a few hours  ...                     -1         1   \n",
       "\n",
       "       long_term_stays  pets_allowed private_entrance secure  self_check_in  \\\n",
       "12463                1            -1                1     -1              1   \n",
       "13911               -1            -1               -1     -1             -1   \n",
       "13987                1            -1                1     -1             -1   \n",
       "14002               -1            -1                1     -1             -1   \n",
       "14607                1            -1               -1     -1              1   \n",
       "14621                1            -1               -1     -1              1   \n",
       "\n",
       "       smoking_allowed accessible event_suitable  \n",
       "12463               -1         -1              1  \n",
       "13911               -1         -1             -1  \n",
       "13987               -1          1             -1  \n",
       "14002               -1         -1             -1  \n",
       "14607               -1         -1             -1  \n",
       "14621               -1         -1             -1  \n",
       "\n",
       "[6 rows x 80 columns]"
      ]
     },
     "execution_count": 47,
     "metadata": {},
     "output_type": "execute_result"
    }
   ],
   "source": [
    "airbnb.loc[airbnb.price == 0]"
   ]
  },
  {
   "cell_type": "markdown",
   "id": "b993118f",
   "metadata": {},
   "source": [
    "There are 6 entries with a price of 0, which all seem like normal airbnb listings. Therefore, I am going to drop these from my dataset so it does not skew my results - they could be errors. "
   ]
  },
  {
   "cell_type": "code",
   "execution_count": 56,
   "id": "e66818c0",
   "metadata": {},
   "outputs": [],
   "source": [
    "nature_and_views_rating_price = nature_and_views_rating_price[nature_and_views_rating_price.price != 0]"
   ]
  },
  {
   "cell_type": "code",
   "execution_count": 57,
   "id": "c0e9b772",
   "metadata": {},
   "outputs": [
    {
     "data": {
      "text/html": [
       "<div>\n",
       "<style scoped>\n",
       "    .dataframe tbody tr th:only-of-type {\n",
       "        vertical-align: middle;\n",
       "    }\n",
       "\n",
       "    .dataframe tbody tr th {\n",
       "        vertical-align: top;\n",
       "    }\n",
       "\n",
       "    .dataframe thead th {\n",
       "        text-align: right;\n",
       "    }\n",
       "</style>\n",
       "<table border=\"1\" class=\"dataframe\">\n",
       "  <thead>\n",
       "    <tr style=\"text-align: right;\">\n",
       "      <th></th>\n",
       "      <th>nature_and_views</th>\n",
       "      <th>review_scores_rating</th>\n",
       "      <th>price</th>\n",
       "    </tr>\n",
       "  </thead>\n",
       "  <tbody>\n",
       "    <tr>\n",
       "      <th>0</th>\n",
       "      <td>-1</td>\n",
       "      <td>98.0</td>\n",
       "      <td>149</td>\n",
       "    </tr>\n",
       "    <tr>\n",
       "      <th>1</th>\n",
       "      <td>-1</td>\n",
       "      <td>NaN</td>\n",
       "      <td>150</td>\n",
       "    </tr>\n",
       "    <tr>\n",
       "      <th>2</th>\n",
       "      <td>-1</td>\n",
       "      <td>NaN</td>\n",
       "      <td>190</td>\n",
       "    </tr>\n",
       "    <tr>\n",
       "      <th>3</th>\n",
       "      <td>-1</td>\n",
       "      <td>97.0</td>\n",
       "      <td>60</td>\n",
       "    </tr>\n",
       "    <tr>\n",
       "      <th>4</th>\n",
       "      <td>-1</td>\n",
       "      <td>NaN</td>\n",
       "      <td>80</td>\n",
       "    </tr>\n",
       "    <tr>\n",
       "      <th>...</th>\n",
       "      <td>...</td>\n",
       "      <td>...</td>\n",
       "      <td>...</td>\n",
       "    </tr>\n",
       "    <tr>\n",
       "      <th>30174</th>\n",
       "      <td>-1</td>\n",
       "      <td>NaN</td>\n",
       "      <td>65</td>\n",
       "    </tr>\n",
       "    <tr>\n",
       "      <th>30175</th>\n",
       "      <td>-1</td>\n",
       "      <td>NaN</td>\n",
       "      <td>70</td>\n",
       "    </tr>\n",
       "    <tr>\n",
       "      <th>30176</th>\n",
       "      <td>-1</td>\n",
       "      <td>NaN</td>\n",
       "      <td>40</td>\n",
       "    </tr>\n",
       "    <tr>\n",
       "      <th>30177</th>\n",
       "      <td>-1</td>\n",
       "      <td>NaN</td>\n",
       "      <td>55</td>\n",
       "    </tr>\n",
       "    <tr>\n",
       "      <th>30178</th>\n",
       "      <td>-1</td>\n",
       "      <td>NaN</td>\n",
       "      <td>90</td>\n",
       "    </tr>\n",
       "  </tbody>\n",
       "</table>\n",
       "<p>30173 rows × 3 columns</p>\n",
       "</div>"
      ],
      "text/plain": [
       "       nature_and_views  review_scores_rating  price\n",
       "0                    -1                  98.0    149\n",
       "1                    -1                   NaN    150\n",
       "2                    -1                   NaN    190\n",
       "3                    -1                  97.0     60\n",
       "4                    -1                   NaN     80\n",
       "...                 ...                   ...    ...\n",
       "30174                -1                   NaN     65\n",
       "30175                -1                   NaN     70\n",
       "30176                -1                   NaN     40\n",
       "30177                -1                   NaN     55\n",
       "30178                -1                   NaN     90\n",
       "\n",
       "[30173 rows x 3 columns]"
      ]
     },
     "execution_count": 57,
     "metadata": {},
     "output_type": "execute_result"
    }
   ],
   "source": [
    "nature_and_views_rating_price"
   ]
  },
  {
   "cell_type": "code",
   "execution_count": 58,
   "id": "c159c092",
   "metadata": {},
   "outputs": [
    {
     "data": {
      "text/html": [
       "<div>\n",
       "<style scoped>\n",
       "    .dataframe tbody tr th:only-of-type {\n",
       "        vertical-align: middle;\n",
       "    }\n",
       "\n",
       "    .dataframe tbody tr th {\n",
       "        vertical-align: top;\n",
       "    }\n",
       "\n",
       "    .dataframe thead th {\n",
       "        text-align: right;\n",
       "    }\n",
       "</style>\n",
       "<table border=\"1\" class=\"dataframe\">\n",
       "  <thead>\n",
       "    <tr style=\"text-align: right;\">\n",
       "      <th></th>\n",
       "      <th>nature_and_views</th>\n",
       "      <th>review_scores_rating</th>\n",
       "      <th>price</th>\n",
       "    </tr>\n",
       "  </thead>\n",
       "  <tbody>\n",
       "    <tr>\n",
       "      <th>0</th>\n",
       "      <td>-1</td>\n",
       "      <td>98.0</td>\n",
       "      <td>149</td>\n",
       "    </tr>\n",
       "    <tr>\n",
       "      <th>3</th>\n",
       "      <td>-1</td>\n",
       "      <td>97.0</td>\n",
       "      <td>60</td>\n",
       "    </tr>\n",
       "    <tr>\n",
       "      <th>6</th>\n",
       "      <td>-1</td>\n",
       "      <td>97.0</td>\n",
       "      <td>120</td>\n",
       "    </tr>\n",
       "    <tr>\n",
       "      <th>7</th>\n",
       "      <td>-1</td>\n",
       "      <td>96.0</td>\n",
       "      <td>150</td>\n",
       "    </tr>\n",
       "    <tr>\n",
       "      <th>8</th>\n",
       "      <td>-1</td>\n",
       "      <td>94.0</td>\n",
       "      <td>115</td>\n",
       "    </tr>\n",
       "    <tr>\n",
       "      <th>...</th>\n",
       "      <td>...</td>\n",
       "      <td>...</td>\n",
       "      <td>...</td>\n",
       "    </tr>\n",
       "    <tr>\n",
       "      <th>29948</th>\n",
       "      <td>-1</td>\n",
       "      <td>100.0</td>\n",
       "      <td>110</td>\n",
       "    </tr>\n",
       "    <tr>\n",
       "      <th>29950</th>\n",
       "      <td>-1</td>\n",
       "      <td>100.0</td>\n",
       "      <td>33</td>\n",
       "    </tr>\n",
       "    <tr>\n",
       "      <th>30082</th>\n",
       "      <td>-1</td>\n",
       "      <td>100.0</td>\n",
       "      <td>129</td>\n",
       "    </tr>\n",
       "    <tr>\n",
       "      <th>30088</th>\n",
       "      <td>-1</td>\n",
       "      <td>100.0</td>\n",
       "      <td>45</td>\n",
       "    </tr>\n",
       "    <tr>\n",
       "      <th>30097</th>\n",
       "      <td>-1</td>\n",
       "      <td>100.0</td>\n",
       "      <td>235</td>\n",
       "    </tr>\n",
       "  </tbody>\n",
       "</table>\n",
       "<p>21088 rows × 3 columns</p>\n",
       "</div>"
      ],
      "text/plain": [
       "       nature_and_views  review_scores_rating  price\n",
       "0                    -1                  98.0    149\n",
       "3                    -1                  97.0     60\n",
       "6                    -1                  97.0    120\n",
       "7                    -1                  96.0    150\n",
       "8                    -1                  94.0    115\n",
       "...                 ...                   ...    ...\n",
       "29948                -1                 100.0    110\n",
       "29950                -1                 100.0     33\n",
       "30082                -1                 100.0    129\n",
       "30088                -1                 100.0     45\n",
       "30097                -1                 100.0    235\n",
       "\n",
       "[21088 rows x 3 columns]"
      ]
     },
     "execution_count": 58,
     "metadata": {},
     "output_type": "execute_result"
    }
   ],
   "source": [
    "nature_and_views_rating_price.dropna(how=\"any\", subset=[\"review_scores_rating\"])"
   ]
  },
  {
   "cell_type": "markdown",
   "id": "0c72481a",
   "metadata": {},
   "source": [
    "So now I have a smaller, clean data set with the information I need, with no missing or incorrect values. "
   ]
  },
  {
   "cell_type": "markdown",
   "id": "366615ba",
   "metadata": {},
   "source": [
    "### Data analysis and visualisation"
   ]
  },
  {
   "cell_type": "markdown",
   "id": "9517cda2",
   "metadata": {},
   "source": [
    "#### Price histogram"
   ]
  },
  {
   "cell_type": "code",
   "execution_count": 72,
   "id": "e49e093b",
   "metadata": {},
   "outputs": [
    {
     "data": {
      "text/plain": [
       "Text(0.5, 1.0, 'Prices of airbnb listings')"
      ]
     },
     "execution_count": 72,
     "metadata": {},
     "output_type": "execute_result"
    },
    {
     "data": {
      "image/png": "[encoded data removed]",
      "text/plain": [
       "<Figure size 432x288 with 1 Axes>"
      ]
     },
     "metadata": {
      "needs_background": "light"
     },
     "output_type": "display_data"
    }
   ],
   "source": [
    "plt.hist(nature_and_views_rating_price['price'], bins = 10)\n",
    "plt.xlabel('Price')\n",
    "plt.ylabel('Frequency')\n",
    "plt.title('Prices of airbnb listings')\n",
    "\n"
   ]
  },
  {
   "cell_type": "markdown",
   "id": "4f150f5b",
   "metadata": {},
   "source": [
    "There is a high frequency of listings around 100 dollars. Next I want to look at the distribution of ratings."
   ]
  },
  {
   "cell_type": "code",
   "execution_count": 73,
   "id": "3389f304",
   "metadata": {},
   "outputs": [
    {
     "data": {
      "image/png": "[encoded data removed]",
      "text/plain": [
       "<Figure size 432x288 with 1 Axes>"
      ]
     },
     "metadata": {
      "needs_background": "light"
     },
     "output_type": "display_data"
    }
   ],
   "source": [
    "plt.hist(nature_and_views_rating_price['review_scores_rating'], bins = 10)\n",
    "plt.xlabel('Airbnb Rating')\n",
    "plt.ylabel('Frequency')\n",
    "plt.title('Ratings of Airbnb listings')\n",
    "plt.show()"
   ]
  },
  {
   "cell_type": "markdown",
   "id": "1dbd7de0",
   "metadata": {},
   "source": [
    "This histogram is very skewed, and shows us that a large proportion of listings have high reviews. After looking at my histograms for a while, I wasn't sure this was the best way to visualise my data, so I decided to try some box plots. "
   ]
  },
  {
   "cell_type": "code",
   "execution_count": 75,
   "id": "d9d9ce1b",
   "metadata": {},
   "outputs": [
    {
     "data": {
      "image/png": "[encoded data removed]",
      "text/plain": [
       "<Figure size 432x288 with 1 Axes>"
      ]
     },
     "metadata": {
      "needs_background": "light"
     },
     "output_type": "display_data"
    }
   ],
   "source": [
    "plt.boxplot(nature_and_views_rating_price['price'])\n",
    "plt.title('Boxplot of airbnb prices')\n",
    "plt.show()\n"
   ]
  },
  {
   "cell_type": "markdown",
   "id": "a0ab90d8",
   "metadata": {},
   "source": [
    "### Comparing variables and their relationships"
   ]
  },
  {
   "cell_type": "markdown",
   "id": "f3790456",
   "metadata": {},
   "source": [
    "My data for nature_and_views is categorial (1 or -1), which is why I chose the barplot and categorical scatterplots."
   ]
  },
  {
   "cell_type": "code",
   "execution_count": 86,
   "id": "fb069b7c",
   "metadata": {},
   "outputs": [],
   "source": [
    "nature = nature_and_views_rating_price['nature_and_views']\n",
    "price = nature_and_views_rating_price['price']\n",
    "rating = nature_and_views_rating_price['review_scores_rating']\n"
   ]
  },
  {
   "cell_type": "code",
   "execution_count": 93,
   "id": "0aec0be5",
   "metadata": {},
   "outputs": [
    {
     "data": {
      "text/plain": [
       "<AxesSubplot: xlabel='nature_and_views', ylabel='price'>"
      ]
     },
     "execution_count": 93,
     "metadata": {},
     "output_type": "execute_result"
    },
    {
     "data": {
      "image/png": "[encoded data removed]",
      "text/plain": [
       "<Figure size 432x288 with 1 Axes>"
      ]
     },
     "metadata": {
      "needs_background": "light"
     },
     "output_type": "display_data"
    }
   ],
   "source": [
    "sns.barplot(data = nature_and_views_rating_price, x = \"nature_and_views\", y = \"price\")\n"
   ]
  },
  {
   "cell_type": "code",
   "execution_count": 91,
   "id": "ffba1bc1",
   "metadata": {},
   "outputs": [
    {
     "data": {
      "text/plain": [
       "<AxesSubplot: xlabel='nature_and_views', ylabel='review_scores_rating'>"
      ]
     },
     "execution_count": 91,
     "metadata": {},
     "output_type": "execute_result"
    },
    {
     "data": {
      "image/png": "[encoded data removed]",
      "text/plain": [
       "<Figure size 432x288 with 1 Axes>"
      ]
     },
     "metadata": {
      "needs_background": "light"
     },
     "output_type": "display_data"
    }
   ],
   "source": [
    "sns.barplot(data = nature_and_views_rating_price, x = \"nature_and_views\", y = \"review_scores_rating\")"
   ]
  },
  {
   "cell_type": "markdown",
   "id": "0daf989e",
   "metadata": {},
   "source": [
    "This is what I did first, and at first glance, both look very similar and it appears there is not much difference between a listing with nature and it's price / ratings, or a listings without and its price/ratings. \n",
    "\n",
    "I then decided to change the error bars to standard deviation rather than confidence intervals to show the distribution rather than degree of certainty. "
   ]
  },
  {
   "cell_type": "code",
   "execution_count": 94,
   "id": "04fa1c70",
   "metadata": {},
   "outputs": [
    {
     "data": {
      "text/plain": [
       "<AxesSubplot: xlabel='nature_and_views', ylabel='review_scores_rating'>"
      ]
     },
     "execution_count": 94,
     "metadata": {},
     "output_type": "execute_result"
    },
    {
     "data": {
      "image/png": "[encoded data removed]",
      "text/plain": [
       "<Figure size 432x288 with 1 Axes>"
      ]
     },
     "metadata": {
      "needs_background": "light"
     },
     "output_type": "display_data"
    }
   ],
   "source": [
    "sns.barplot(data = nature_and_views_rating_price, x = \"nature_and_views\", y = \"review_scores_rating\", errorbar=\"sd\")"
   ]
  },
  {
   "cell_type": "code",
   "execution_count": 95,
   "id": "27e3b56e",
   "metadata": {},
   "outputs": [
    {
     "data": {
      "text/plain": [
       "<AxesSubplot: xlabel='nature_and_views', ylabel='price'>"
      ]
     },
     "execution_count": 95,
     "metadata": {},
     "output_type": "execute_result"
    },
    {
     "data": {
      "image/png": "[encoded data removed]",
      "text/plain": [
       "<Figure size 432x288 with 1 Axes>"
      ]
     },
     "metadata": {
      "needs_background": "light"
     },
     "output_type": "display_data"
    }
   ],
   "source": [
    "sns.barplot(data = nature_and_views_rating_price, x = \"nature_and_views\", y = \"price\", errorbar=\"sd\")\n"
   ]
  },
  {
   "cell_type": "markdown",
   "id": "827fccb1",
   "metadata": {},
   "source": [
    "For price, the standard deviation shows that the data is more spread out and not clustered around the mean. "
   ]
  },
  {
   "cell_type": "markdown",
   "id": "fb9c3bb1",
   "metadata": {},
   "source": [
    "### Categorical scatterplots"
   ]
  },
  {
   "cell_type": "code",
   "execution_count": 159,
   "id": "c145b52c",
   "metadata": {},
   "outputs": [
    {
     "data": {
      "text/plain": [
       "<AxesSubplot: xlabel='nature_and_views', ylabel='price'>"
      ]
     },
     "execution_count": 159,
     "metadata": {},
     "output_type": "execute_result"
    },
    {
     "data": {
      "image/png": "[encoded data removed]",
      "text/plain": [
       "<Figure size 432x288 with 1 Axes>"
      ]
     },
     "metadata": {
      "needs_background": "light"
     },
     "output_type": "display_data"
    }
   ],
   "source": [
    "sns.stripplot(data=nature_and_views_rating_price, x = \"nature_and_views\", y = \"price\",size = 1.0)"
   ]
  },
  {
   "cell_type": "code",
   "execution_count": 160,
   "id": "be005447",
   "metadata": {},
   "outputs": [
    {
     "data": {
      "text/plain": [
       "<AxesSubplot: xlabel='nature_and_views', ylabel='review_scores_rating'>"
      ]
     },
     "execution_count": 160,
     "metadata": {},
     "output_type": "execute_result"
    },
    {
     "data": {
      "image/png": "[encoded data removed]",
      "text/plain": [
       "<Figure size 432x288 with 1 Axes>"
      ]
     },
     "metadata": {
      "needs_background": "light"
     },
     "output_type": "display_data"
    }
   ],
   "source": [
    "sns.stripplot(data=nature_and_views_rating_price, x = \"nature_and_views\", y = \"review_scores_rating\",size = 1.0)"
   ]
  },
  {
   "cell_type": "markdown",
   "id": "78f03e72",
   "metadata": {},
   "source": [
    "At this point, I realised both price and ratings were being impacted because so many more listings had no nature than those that did. So I decided to select 1000 randow rows to look into."
   ]
  },
  {
   "cell_type": "code",
   "execution_count": 153,
   "id": "0a278bf8",
   "metadata": {},
   "outputs": [
    {
     "data": {
      "text/html": [
       "<div>\n",
       "<style scoped>\n",
       "    .dataframe tbody tr th:only-of-type {\n",
       "        vertical-align: middle;\n",
       "    }\n",
       "\n",
       "    .dataframe tbody tr th {\n",
       "        vertical-align: top;\n",
       "    }\n",
       "\n",
       "    .dataframe thead th {\n",
       "        text-align: right;\n",
       "    }\n",
       "</style>\n",
       "<table border=\"1\" class=\"dataframe\">\n",
       "  <thead>\n",
       "    <tr style=\"text-align: right;\">\n",
       "      <th></th>\n",
       "      <th>nature_and_views</th>\n",
       "      <th>review_scores_rating</th>\n",
       "      <th>price</th>\n",
       "    </tr>\n",
       "  </thead>\n",
       "  <tbody>\n",
       "    <tr>\n",
       "      <th>18830</th>\n",
       "      <td>-1</td>\n",
       "      <td>100.0</td>\n",
       "      <td>44</td>\n",
       "    </tr>\n",
       "    <tr>\n",
       "      <th>7865</th>\n",
       "      <td>-1</td>\n",
       "      <td>100.0</td>\n",
       "      <td>79</td>\n",
       "    </tr>\n",
       "    <tr>\n",
       "      <th>12213</th>\n",
       "      <td>-1</td>\n",
       "      <td>NaN</td>\n",
       "      <td>142</td>\n",
       "    </tr>\n",
       "    <tr>\n",
       "      <th>2433</th>\n",
       "      <td>-1</td>\n",
       "      <td>100.0</td>\n",
       "      <td>165</td>\n",
       "    </tr>\n",
       "    <tr>\n",
       "      <th>25204</th>\n",
       "      <td>-1</td>\n",
       "      <td>90.0</td>\n",
       "      <td>81</td>\n",
       "    </tr>\n",
       "    <tr>\n",
       "      <th>...</th>\n",
       "      <td>...</td>\n",
       "      <td>...</td>\n",
       "      <td>...</td>\n",
       "    </tr>\n",
       "    <tr>\n",
       "      <th>19886</th>\n",
       "      <td>-1</td>\n",
       "      <td>100.0</td>\n",
       "      <td>325</td>\n",
       "    </tr>\n",
       "    <tr>\n",
       "      <th>24104</th>\n",
       "      <td>-1</td>\n",
       "      <td>NaN</td>\n",
       "      <td>35</td>\n",
       "    </tr>\n",
       "    <tr>\n",
       "      <th>14746</th>\n",
       "      <td>-1</td>\n",
       "      <td>92.0</td>\n",
       "      <td>150</td>\n",
       "    </tr>\n",
       "    <tr>\n",
       "      <th>23766</th>\n",
       "      <td>-1</td>\n",
       "      <td>98.0</td>\n",
       "      <td>160</td>\n",
       "    </tr>\n",
       "    <tr>\n",
       "      <th>19951</th>\n",
       "      <td>-1</td>\n",
       "      <td>NaN</td>\n",
       "      <td>100</td>\n",
       "    </tr>\n",
       "  </tbody>\n",
       "</table>\n",
       "<p>1000 rows × 3 columns</p>\n",
       "</div>"
      ],
      "text/plain": [
       "       nature_and_views  review_scores_rating  price\n",
       "18830                -1                 100.0     44\n",
       "7865                 -1                 100.0     79\n",
       "12213                -1                   NaN    142\n",
       "2433                 -1                 100.0    165\n",
       "25204                -1                  90.0     81\n",
       "...                 ...                   ...    ...\n",
       "19886                -1                 100.0    325\n",
       "24104                -1                   NaN     35\n",
       "14746                -1                  92.0    150\n",
       "23766                -1                  98.0    160\n",
       "19951                -1                   NaN    100\n",
       "\n",
       "[1000 rows x 3 columns]"
      ]
     },
     "execution_count": 153,
     "metadata": {},
     "output_type": "execute_result"
    }
   ],
   "source": [
    "sample_df = nature_and_views_rating_price.sample(n=1000)\n",
    "sample_df\n"
   ]
  },
  {
   "cell_type": "code",
   "execution_count": 154,
   "id": "80e1fce2",
   "metadata": {},
   "outputs": [
    {
     "data": {
      "text/plain": [
       "<AxesSubplot: xlabel='nature_and_views', ylabel='price'>"
      ]
     },
     "execution_count": 154,
     "metadata": {},
     "output_type": "execute_result"
    },
    {
     "data": {
      "image/png": "[encoded data removed]",
      "text/plain": [
       "<Figure size 432x288 with 1 Axes>"
      ]
     },
     "metadata": {
      "needs_background": "light"
     },
     "output_type": "display_data"
    }
   ],
   "source": [
    "sns.stripplot(data=sample_df, x = \"nature_and_views\", y = \"price\", size = 2.5)"
   ]
  },
  {
   "cell_type": "markdown",
   "id": "82d9ca6f",
   "metadata": {},
   "source": [
    "There is still a lot more data for -1, however even the listings with nature are still towards the lower / average price bracket.The previous boxplot with more data points probably shows a more confident view that listings with nature are still focused around the lower price range rather than higher. "
   ]
  },
  {
   "cell_type": "code",
   "execution_count": 155,
   "id": "fda8ecd2",
   "metadata": {},
   "outputs": [
    {
     "data": {
      "text/plain": [
       "<AxesSubplot: xlabel='nature_and_views', ylabel='review_scores_rating'>"
      ]
     },
     "execution_count": 155,
     "metadata": {},
     "output_type": "execute_result"
    },
    {
     "data": {
      "image/png": "[encoded data removed]",
      "text/plain": [
       "<Figure size 432x288 with 1 Axes>"
      ]
     },
     "metadata": {
      "needs_background": "light"
     },
     "output_type": "display_data"
    }
   ],
   "source": [
    "sns.stripplot(data=sample_df, x = \"nature_and_views\", y = \"review_scores_rating\", size = 2.5)"
   ]
  },
  {
   "cell_type": "markdown",
   "id": "78a00f65",
   "metadata": {},
   "source": [
    "The same is shown for ratings - there doesn't seem to be a relationship between nature and how expensive listings are, or how highly they are rated."
   ]
  },
  {
   "cell_type": "code",
   "execution_count": 148,
   "id": "70827f85",
   "metadata": {},
   "outputs": [
    {
     "data": {
      "text/plain": [
       "<AxesSubplot: xlabel='nature_and_views', ylabel='review_scores_rating'>"
      ]
     },
     "execution_count": 148,
     "metadata": {},
     "output_type": "execute_result"
    },
    {
     "data": {
      "image/png": "[encoded data removed]",
      "text/plain": [
       "<Figure size 432x288 with 1 Axes>"
      ]
     },
     "metadata": {
      "needs_background": "light"
     },
     "output_type": "display_data"
    }
   ],
   "source": [
    "sns.violinplot(data=sample_df, x=\"nature_and_views\", y=\"review_scores_rating\")"
   ]
  },
  {
   "cell_type": "markdown",
   "id": "35fb13fa",
   "metadata": {},
   "source": [
    "I tried some violin plots to see if this was a nicer visualisation, which I think it is. "
   ]
  },
  {
   "cell_type": "code",
   "execution_count": 158,
   "id": "1c08134a",
   "metadata": {},
   "outputs": [
    {
     "data": {
      "text/plain": [
       "<AxesSubplot: xlabel='nature_and_views', ylabel='price'>"
      ]
     },
     "execution_count": 158,
     "metadata": {},
     "output_type": "execute_result"
    },
    {
     "data": {
      "image/png": "[encoded data removed]",
      "text/plain": [
       "<Figure size 432x288 with 1 Axes>"
      ]
     },
     "metadata": {
      "needs_background": "light"
     },
     "output_type": "display_data"
    }
   ],
   "source": [
    "sns.violinplot(data=sample_df, x=\"nature_and_views\", y=\"price\")"
   ]
  },
  {
   "cell_type": "markdown",
   "id": "a24498e8",
   "metadata": {},
   "source": [
    "From this data exploration, I can confidently say that there is no relationship between an airbnb having nature and the price or rating of it. The violin plots above show that the median for both are very similar, as well as the highest probability. Listings with and without nature both appear to be most common at round $90-$100 as well as 80-100 scores. \n",
    "\n",
    "The interquartile range is larger for listings with nature and their ratings, but since there are so many other factors in the main airbnb dataset, I couldn't confidently say that nature has an impact on this, especially given how similar it is to the listings without. "
   ]
  },
  {
   "cell_type": "markdown",
   "id": "74de972d",
   "metadata": {},
   "source": [
    "274 metropolitan areas in the US have seen a loss of open space from 1990 to 2000 (Colding et al, 2020), however green spaces are often crucial to wellbeing and health. It may be useful to compare this information to other cities with airbnb listings and see if greener spaces have higher ratings or are priced differently. \n",
    "\n",
    "Airbnb is taking over a lot of rental markets, and is often the go-to for younger generations while on holiday or trips, so a focus on increasing nature may be beneficial for exposing a large market to a way to connect with the environment. "
   ]
  },
  {
   "cell_type": "code",
   "execution_count": null,
   "id": "34651179",
   "metadata": {},
   "outputs": [],
   "source": []
  }
 ],
 "metadata": {
  "kernelspec": {
   "display_name": "Python 3 (ipykernel)",
   "language": "python",
   "name": "python3"
  },
  "language_info": {
   "codemirror_mode": {
    "name": "ipython",
    "version": 3
   },
   "file_extension": ".py",
   "mimetype": "text/x-python",
   "name": "python",
   "nbconvert_exporter": "python",
   "pygments_lexer": "ipython3",
   "version": "3.9.15"
  }
 },
 "nbformat": 4,
 "nbformat_minor": 5
}
